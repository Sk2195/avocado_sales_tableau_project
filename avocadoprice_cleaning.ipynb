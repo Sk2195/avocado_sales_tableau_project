{
 "cells": [
  {
   "cell_type": "code",
   "execution_count": 1,
   "id": "1f66c28a",
   "metadata": {},
   "outputs": [
    {
     "name": "stderr",
     "output_type": "stream",
     "text": [
      "C:\\Users\\chimi\\anaconda3\\lib\\site-packages\\numpy\\_distributor_init.py:30: UserWarning: loaded more than 1 DLL from .libs:\n",
      "C:\\Users\\chimi\\anaconda3\\lib\\site-packages\\numpy\\.libs\\libopenblas.EL2C6PLE4ZYW3ECEVIV3OXXGRN2NRFM2.gfortran-win_amd64.dll\n",
      "C:\\Users\\chimi\\anaconda3\\lib\\site-packages\\numpy\\.libs\\libopenblas64__v0.3.23-246-g3d31191b-gcc_10_3_0.dll\n",
      "  warnings.warn(\"loaded more than 1 DLL from .libs:\"\n"
     ]
    }
   ],
   "source": [
    "import numpy as np\n",
    "import pandas as pd\n"
   ]
  },
  {
   "cell_type": "code",
   "execution_count": 8,
   "id": "6bf8ff52",
   "metadata": {},
   "outputs": [],
   "source": [
    "avocadoprice_df = pd.read_csv('C:/Users/chimi/Desktop/Tableau Projects/avocado/avocado cleaned.csv')"
   ]
  },
  {
   "cell_type": "code",
   "execution_count": 9,
   "id": "dece0cae",
   "metadata": {},
   "outputs": [
    {
     "data": {
      "text/html": [
       "<div>\n",
       "<style scoped>\n",
       "    .dataframe tbody tr th:only-of-type {\n",
       "        vertical-align: middle;\n",
       "    }\n",
       "\n",
       "    .dataframe tbody tr th {\n",
       "        vertical-align: top;\n",
       "    }\n",
       "\n",
       "    .dataframe thead th {\n",
       "        text-align: right;\n",
       "    }\n",
       "</style>\n",
       "<table border=\"1\" class=\"dataframe\">\n",
       "  <thead>\n",
       "    <tr style=\"text-align: right;\">\n",
       "      <th></th>\n",
       "      <th>Date</th>\n",
       "      <th>AveragePrice</th>\n",
       "      <th>TotalVolume</th>\n",
       "      <th>plu4046</th>\n",
       "      <th>plu4225</th>\n",
       "      <th>plu4770</th>\n",
       "      <th>TotalBags</th>\n",
       "      <th>SmallBags</th>\n",
       "      <th>LargeBags</th>\n",
       "      <th>XLargeBags</th>\n",
       "      <th>type</th>\n",
       "      <th>year</th>\n",
       "      <th>region</th>\n",
       "    </tr>\n",
       "  </thead>\n",
       "  <tbody>\n",
       "    <tr>\n",
       "      <th>0</th>\n",
       "      <td>1/4/2015</td>\n",
       "      <td>1.22</td>\n",
       "      <td>40873.28</td>\n",
       "      <td>2819.50</td>\n",
       "      <td>28287.42</td>\n",
       "      <td>49.90</td>\n",
       "      <td>9716.46</td>\n",
       "      <td>9186.93</td>\n",
       "      <td>529.53</td>\n",
       "      <td>0.0</td>\n",
       "      <td>conventional</td>\n",
       "      <td>2015</td>\n",
       "      <td>Albany</td>\n",
       "    </tr>\n",
       "    <tr>\n",
       "      <th>1</th>\n",
       "      <td>1/4/2015</td>\n",
       "      <td>1.79</td>\n",
       "      <td>1373.95</td>\n",
       "      <td>57.42</td>\n",
       "      <td>153.88</td>\n",
       "      <td>0.00</td>\n",
       "      <td>1162.65</td>\n",
       "      <td>1162.65</td>\n",
       "      <td>0.00</td>\n",
       "      <td>0.0</td>\n",
       "      <td>organic</td>\n",
       "      <td>2015</td>\n",
       "      <td>Albany</td>\n",
       "    </tr>\n",
       "    <tr>\n",
       "      <th>2</th>\n",
       "      <td>1/11/2015</td>\n",
       "      <td>1.24</td>\n",
       "      <td>41195.08</td>\n",
       "      <td>1002.85</td>\n",
       "      <td>31640.34</td>\n",
       "      <td>127.12</td>\n",
       "      <td>8424.77</td>\n",
       "      <td>8036.04</td>\n",
       "      <td>388.73</td>\n",
       "      <td>0.0</td>\n",
       "      <td>conventional</td>\n",
       "      <td>2015</td>\n",
       "      <td>Albany</td>\n",
       "    </tr>\n",
       "    <tr>\n",
       "      <th>3</th>\n",
       "      <td>1/11/2015</td>\n",
       "      <td>1.77</td>\n",
       "      <td>1182.56</td>\n",
       "      <td>39.00</td>\n",
       "      <td>305.12</td>\n",
       "      <td>0.00</td>\n",
       "      <td>838.44</td>\n",
       "      <td>838.44</td>\n",
       "      <td>0.00</td>\n",
       "      <td>0.0</td>\n",
       "      <td>organic</td>\n",
       "      <td>2015</td>\n",
       "      <td>Albany</td>\n",
       "    </tr>\n",
       "    <tr>\n",
       "      <th>4</th>\n",
       "      <td>1/18/2015</td>\n",
       "      <td>1.17</td>\n",
       "      <td>44511.28</td>\n",
       "      <td>914.14</td>\n",
       "      <td>31540.32</td>\n",
       "      <td>135.77</td>\n",
       "      <td>11921.05</td>\n",
       "      <td>11651.09</td>\n",
       "      <td>269.96</td>\n",
       "      <td>0.0</td>\n",
       "      <td>conventional</td>\n",
       "      <td>2015</td>\n",
       "      <td>Albany</td>\n",
       "    </tr>\n",
       "  </tbody>\n",
       "</table>\n",
       "</div>"
      ],
      "text/plain": [
       "        Date  AveragePrice  TotalVolume  plu4046   plu4225  plu4770  \\\n",
       "0   1/4/2015          1.22     40873.28  2819.50  28287.42    49.90   \n",
       "1   1/4/2015          1.79      1373.95    57.42    153.88     0.00   \n",
       "2  1/11/2015          1.24     41195.08  1002.85  31640.34   127.12   \n",
       "3  1/11/2015          1.77      1182.56    39.00    305.12     0.00   \n",
       "4  1/18/2015          1.17     44511.28   914.14  31540.32   135.77   \n",
       "\n",
       "   TotalBags  SmallBags  LargeBags  XLargeBags          type  year  region  \n",
       "0    9716.46    9186.93     529.53         0.0  conventional  2015  Albany  \n",
       "1    1162.65    1162.65       0.00         0.0       organic  2015  Albany  \n",
       "2    8424.77    8036.04     388.73         0.0  conventional  2015  Albany  \n",
       "3     838.44     838.44       0.00         0.0       organic  2015  Albany  \n",
       "4   11921.05   11651.09     269.96         0.0  conventional  2015  Albany  "
      ]
     },
     "execution_count": 9,
     "metadata": {},
     "output_type": "execute_result"
    }
   ],
   "source": [
    "avocadoprice_df.head(5)"
   ]
  },
  {
   "cell_type": "code",
   "execution_count": 10,
   "id": "0ecb6eb6",
   "metadata": {},
   "outputs": [
    {
     "name": "stdout",
     "output_type": "stream",
     "text": [
      "<class 'pandas.core.frame.DataFrame'>\n",
      "RangeIndex: 41025 entries, 0 to 41024\n",
      "Data columns (total 13 columns):\n",
      " #   Column        Non-Null Count  Dtype  \n",
      "---  ------        --------------  -----  \n",
      " 0   Date          41025 non-null  object \n",
      " 1   AveragePrice  41025 non-null  float64\n",
      " 2   TotalVolume   41025 non-null  float64\n",
      " 3   plu4046       41025 non-null  float64\n",
      " 4   plu4225       41025 non-null  float64\n",
      " 5   plu4770       41025 non-null  float64\n",
      " 6   TotalBags     41025 non-null  float64\n",
      " 7   SmallBags     41025 non-null  float64\n",
      " 8   LargeBags     41025 non-null  float64\n",
      " 9   XLargeBags    41025 non-null  float64\n",
      " 10  type          41025 non-null  object \n",
      " 11  year          41025 non-null  int64  \n",
      " 12  region        41025 non-null  object \n",
      "dtypes: float64(9), int64(1), object(3)\n",
      "memory usage: 4.1+ MB\n"
     ]
    }
   ],
   "source": [
    "# Check for the structure\n",
    "avocadoprice_df.info()"
   ]
  },
  {
   "cell_type": "code",
   "execution_count": 18,
   "id": "336fcf70",
   "metadata": {},
   "outputs": [
    {
     "data": {
      "text/plain": [
       "(41025, 13)"
      ]
     },
     "execution_count": 18,
     "metadata": {},
     "output_type": "execute_result"
    }
   ],
   "source": [
    "# Number of rows and columns\n",
    "avocadoprice_df.shape"
   ]
  },
  {
   "cell_type": "code",
   "execution_count": 12,
   "id": "7cdaaaae",
   "metadata": {},
   "outputs": [
    {
     "data": {
      "text/plain": [
       "Index(['Date', 'AveragePrice', 'TotalVolume', 'plu4046', 'plu4225', 'plu4770',\n",
       "       'TotalBags', 'SmallBags', 'LargeBags', 'XLargeBags', 'type', 'year',\n",
       "       'region'],\n",
       "      dtype='object')"
      ]
     },
     "execution_count": 12,
     "metadata": {},
     "output_type": "execute_result"
    }
   ],
   "source": [
    "# Overview of the columns\n",
    "avocadoprice_df.columns"
   ]
  },
  {
   "cell_type": "code",
   "execution_count": 16,
   "id": "2eb9cd6d",
   "metadata": {},
   "outputs": [],
   "source": [
    "# Convert date to datetime format\n",
    "avocadoprice_df['Date'] = pd.to_datetime(avocadoprice_df['Date'])"
   ]
  },
  {
   "cell_type": "code",
   "execution_count": 19,
   "id": "04edf077",
   "metadata": {},
   "outputs": [
    {
     "data": {
      "text/plain": [
       "40664"
      ]
     },
     "execution_count": 19,
     "metadata": {},
     "output_type": "execute_result"
    }
   ],
   "source": [
    "# Check for duplicates\n",
    "# Duplicate present in this dataset is explainable- Multiple region might have sold\n",
    "# avocados at the same price. \n",
    "# Multiple varieties which can have its own price and multiple entries.\n",
    "# Data merged from various sources which can result in duplicates \n",
    "avocadoprice_df['Date'].duplicated().sum()"
   ]
  },
  {
   "cell_type": "code",
   "execution_count": 25,
   "id": "e215a304",
   "metadata": {},
   "outputs": [
    {
     "name": "stdout",
     "output_type": "stream",
     "text": [
      "Date            0.0\n",
      "AveragePrice    0.0\n",
      "TotalVolume     0.0\n",
      "plu4046         0.0\n",
      "plu4225         0.0\n",
      "plu4770         0.0\n",
      "TotalBags       0.0\n",
      "SmallBags       0.0\n",
      "LargeBags       0.0\n",
      "XLargeBags      0.0\n",
      "type            0.0\n",
      "year            0.0\n",
      "region          0.0\n",
      "dtype: float64\n"
     ]
    }
   ],
   "source": [
    "# Check for missing values\n",
    "missingvals_per = avocadoprice_df.isnull().sum() / 100\n",
    "print(missingvals_per)"
   ]
  },
  {
   "cell_type": "code",
   "execution_count": null,
   "id": "150b3876",
   "metadata": {},
   "outputs": [],
   "source": [
    "# Make a dashboard"
   ]
  }
 ],
 "metadata": {
  "kernelspec": {
   "display_name": "Python 3 (ipykernel)",
   "language": "python",
   "name": "python3"
  },
  "language_info": {
   "codemirror_mode": {
    "name": "ipython",
    "version": 3
   },
   "file_extension": ".py",
   "mimetype": "text/x-python",
   "name": "python",
   "nbconvert_exporter": "python",
   "pygments_lexer": "ipython3",
   "version": "3.9.13"
  }
 },
 "nbformat": 4,
 "nbformat_minor": 5
}
